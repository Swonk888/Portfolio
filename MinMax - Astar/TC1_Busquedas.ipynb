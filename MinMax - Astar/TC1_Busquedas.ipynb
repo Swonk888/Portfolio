{
  "nbformat": 4,
  "nbformat_minor": 0,
  "metadata": {
    "colab": {
      "provenance": []
    },
    "kernelspec": {
      "name": "python3",
      "display_name": "Python 3"
    },
    "language_info": {
      "name": "python"
    }
  },
  "cells": [
    {
      "cell_type": "markdown",
      "source": [
        "**1. A* - Peg Solitaire**"
      ],
      "metadata": {
        "id": "DqTSUri36uAA"
      }
    },
    {
      "cell_type": "markdown",
      "source": [
        "1. Imports"
      ],
      "metadata": {
        "id": "1kLMVG3p8_aw"
      }
    },
    {
      "cell_type": "code",
      "execution_count": null,
      "metadata": {
        "id": "9Xhvv0ErrgDg"
      },
      "outputs": [],
      "source": [
        "import numpy as np\n",
        "import heapq\n",
        "from itertools import count\n",
        "import time\n",
        "import matplotlib.pyplot as plt"
      ]
    },
    {
      "cell_type": "markdown",
      "source": [
        "2. Global Variables"
      ],
      "metadata": {
        "id": "CowUpIa_-eTI"
      }
    },
    {
      "cell_type": "code",
      "source": [
        "MOVES = [(-2, 0), (2, 0), (0, -2), (0, 2)]\n",
        "TARGET = np.array([3, 2]) #Posicion objetivo de la ultima pieza (3, 2)\n",
        " # 0 es un espacio inválido, 1 una ficha y -1 un espacio libre\n",
        "INITIAL_BOARD = np.array([\n",
        "    [0, 1, 1, 1, 0],\n",
        "    [0, 1, 1, 1, 0],\n",
        "    [1, 1, 1, 1, 1],\n",
        "    [1, 1, -1, 1, 1],\n",
        "    [1, 1, 1, 1, 1],\n",
        "    [0, 1, 1, 1, 0],\n",
        "    [0, 1, 1, 1, 0]\n",
        "])\n",
        "\n",
        "OBJECTIVE = np.array([\n",
        "    [0, -1, -1, -1, 0],\n",
        "    [0, -1, -1, -1, 0],\n",
        "    [-1, -1, -1, -1, -1],\n",
        "    [-1, -1,  -1, -1, -1],\n",
        "    [-1, -1, -1, -1, -1],\n",
        "    [0, -1, -1, -1, 0],\n",
        "    [0, -1, -1, -1, 0]\n",
        "])\n"
      ],
      "metadata": {
        "id": "wFroNbtB9HFU"
      },
      "execution_count": null,
      "outputs": []
    },
    {
      "cell_type": "code",
      "source": [
        "def setObjective(): #Se define el estado objetivo\n",
        "  global OBJECTIVE\n",
        "  OBJECTIVE[TARGET[0], TARGET[1]] = 1\n",
        "  return OBJECTIVE"
      ],
      "metadata": {
        "id": "E-FkAyBZ26X9"
      },
      "execution_count": null,
      "outputs": []
    },
    {
      "cell_type": "markdown",
      "source": [
        "3. Game Functions: \"Peg Solitaire\""
      ],
      "metadata": {
        "id": "WohNUvUHG-VZ"
      }
    },
    {
      "cell_type": "code",
      "source": [
        "def getMoves(board):\n",
        "    moves = [] #Lista de movimientos validos en el tablero\n",
        "    positions = np.argwhere(board == 1)  #Todas las posiciones de la matriz que sean igual a 1 (fichas)\n",
        "\n",
        "    for x, y in positions:\n",
        "        for dx, dy in MOVES:\n",
        "            ni, nj = x + dx, y + dy  # Nueva posición después del salto\n",
        "            mi, mj = x + dx // 2, y + dy // 2  # Posición intermedia (El que se borra)\n",
        "\n",
        "            if (0 <= ni < board.shape[0] and 0 <= nj < board.shape[1] and\n",
        "                board[ni, nj] == -1 and board[mi, mj] == 1): #Movimiento Valido (está vacío donde cae y hay una ficha en medio)\n",
        "                moves.append(((x, y), (mi, mj), (ni, nj)))  # (Inicio, Salto, Destino)\n",
        "    return moves\n",
        "\n",
        "def applyMove(board, move): #move = (Inicio, Salto, Destino)\n",
        "    new_board = board.copy()\n",
        "    (start, middle, end) = move\n",
        "    new_board[start] = -1  # Quitar ficha del inicio\n",
        "    new_board[middle] = -1  # Eliminar ficha sobre la que se saltó\n",
        "    new_board[end] = 1  # Poner ficha en la posición final\n",
        "    return new_board\n",
        "\n",
        "def isGoal(board):\n",
        "    #valida si ya se llega al estado objetivo\n",
        "    return np.array_equal(board, OBJECTIVE)\n"
      ],
      "metadata": {
        "id": "K2pwdORT_2OE"
      },
      "execution_count": null,
      "outputs": []
    },
    {
      "cell_type": "markdown",
      "source": [
        "4. Cálculo de la heurística"
      ],
      "metadata": {
        "id": "KGNby6zlJveE"
      }
    },
    {
      "cell_type": "code",
      "source": [
        "# h(n) debe ser menor o igual al costo real\n",
        "# El costo del nodo actual al nodo siguiente + costo del nodo actual al objetivo >= costo del nodo actual al nodo siguiente"
      ],
      "metadata": {
        "id": "_GX9WjBTDkhR"
      },
      "execution_count": null,
      "outputs": []
    },
    {
      "cell_type": "code",
      "source": [
        "def heuristica(board):\n",
        "    positions = np.argwhere(board == 1)\n",
        "\n",
        "    if positions.size == 0:\n",
        "        return float('inf')\n",
        "\n",
        "    distances = np.sum(np.abs(positions - TARGET), axis=1)\n",
        "    moves_penalty = len(getMoves(board))  # Penalizar estados con menos movimientos\n",
        "    return np.sum(distances) - moves_penalty"
      ],
      "metadata": {
        "id": "BHAJ5WUmJt8Q"
      },
      "execution_count": null,
      "outputs": []
    },
    {
      "cell_type": "markdown",
      "source": [
        "Para g(n) lo que haremos es tomar la cantidad de turnos que fueron necesarios para llegar a la posición actual, llevaremos un contador que irá incrementando\n",
        "\n",
        "Para h(n) calculamos las suma de todas las distancias de manhattan de cada ficha al espacio objetivo donde la ultima ficha queda. Esto nos da el estimado de turnos restantes para llegar al estado objetivo"
      ],
      "metadata": {
        "id": "6zJk1uquBma3"
      }
    },
    {
      "cell_type": "markdown",
      "source": [
        "5. Obtener Información del Tablero"
      ],
      "metadata": {
        "id": "kpT9gCO9QTio"
      }
    },
    {
      "cell_type": "code",
      "source": [
        "def getBoardInfo(board, g, moves):\n",
        "    f = g + 1 + heuristica(board) #f(n) = g(n) + h(n)\n",
        "    return (f, g + 1, tuple(map(tuple, board)), moves)\n",
        "    #Se calcula el valor de f(n)."
      ],
      "metadata": {
        "id": "05dCtHysP8tH"
      },
      "execution_count": null,
      "outputs": []
    },
    {
      "cell_type": "markdown",
      "source": [
        "6. Implementación del A*"
      ],
      "metadata": {
        "id": "T1ByCSSuJGY4"
      }
    },
    {
      "cell_type": "code",
      "source": [
        "def aStarSearch(board):\n",
        "    if isGoal(board):\n",
        "        print(\"The solution was found\")\n",
        "        return\n",
        "\n",
        "    closed = set() #Lista de nodos visitados\n",
        "    open = [] #Lista de nodos abiertos\n",
        "    heapq.heappush(open, getBoardInfo(board, 0, [])) #Heap ordena automaticamente por f(n) por lo que\n",
        "    #se escoge siempre el f mas optimo.\n",
        "\n",
        "    # Inicialización de las variables para graficar\n",
        "    start_time = time.time()\n",
        "    time_points = []\n",
        "    open_sizes = []\n",
        "\n",
        "    while open:\n",
        "        # Guardar tiempo y cantidad de nodos abiertos\n",
        "        current_time = time.time() - start_time\n",
        "        time_points.append(current_time)\n",
        "        open_sizes.append(len(open))\n",
        "\n",
        "        f, g, currentBoard, moves = heapq.heappop(open) #Saca la posicion con el f mas optimo\n",
        "\n",
        "        if isGoal(currentBoard):\n",
        "            print(\"The solution was found\")\n",
        "            return moves, time_points, open_sizes\n",
        "\n",
        "        if currentBoard in closed:\n",
        "            continue\n",
        "\n",
        "        closed.add(currentBoard) #entra a la lista de visitados\n",
        "\n",
        "        for move in getMoves(np.array(currentBoard)): #revisa todos los movimientos posibles del estado actual del tablero\n",
        "            newBoard = applyMove(np.array(currentBoard), move)\n",
        "            newMoves = moves + [move]\n",
        "            heapq.heappush(open, getBoardInfo(newBoard, g, newMoves)) #Itroduce y calcula todos los valores f de todos los estados\n",
        "\n",
        "    print(\"The solution could not be found.\")\n",
        "    return moves, time_points, open_sizes\n",
        "\n",
        "#Mostrar Visualmente los resultados\n",
        "def print_board(board):\n",
        "    for row in board:\n",
        "        print(\" \".join(['■' if cell == 1 else '□' if cell == -1 else ' ' for cell in row]))\n",
        "    print(\"\\n\")\n",
        "\n",
        "def print_solution(board, solution):\n",
        "    current_board = board.copy()\n",
        "\n",
        "    print(\"Tablero inicial:\")\n",
        "    print_board(current_board)\n",
        "    print(\"=\" * 20)\n",
        "\n",
        "    print(f\"Solución encontrada en {len(solution)} movimientos:\\n\")\n",
        "    for i, move in enumerate(solution):\n",
        "        print(f\"Movimiento {i+1}: {tuple(tuple(int(coord) for coord in step) for step in move)}\")\n",
        "\n",
        "        current_board = applyMove(current_board, move)\n",
        "        print_board(current_board)"
      ],
      "metadata": {
        "id": "CvqGw0Y6BpkE"
      },
      "execution_count": null,
      "outputs": []
    },
    {
      "cell_type": "markdown",
      "source": [
        "7. Ejecucion del A*"
      ],
      "metadata": {
        "id": "djUnRyNGsXhv"
      }
    },
    {
      "cell_type": "code",
      "source": [
        "setObjective() #Define como se ve el estado objetivo del juego\n",
        "\n",
        "start_time = time.time()  # Start time\n",
        "\n",
        "solution, time_points, open_sizes = aStarSearch(INITIAL_BOARD)\n",
        "print_solution(INITIAL_BOARD, solution)\n",
        "\n",
        "end_time = time.time()  # End time\n",
        "\n",
        "elapsed_time = end_time - start_time\n",
        "print(f\"Function execution time: {elapsed_time:.4f} seconds\")"
      ],
      "metadata": {
        "id": "R1vroge-trKE",
        "colab": {
          "base_uri": "https://localhost:8080/"
        },
        "outputId": "6677e561-78f6-4830-9f1f-28b86a5c3997"
      },
      "execution_count": null,
      "outputs": [
        {
          "output_type": "stream",
          "name": "stdout",
          "text": [
            "The solution was found\n",
            "Tablero inicial:\n",
            "  ■ ■ ■  \n",
            "  ■ ■ ■  \n",
            "■ ■ ■ ■ ■\n",
            "■ ■ □ ■ ■\n",
            "■ ■ ■ ■ ■\n",
            "  ■ ■ ■  \n",
            "  ■ ■ ■  \n",
            "\n",
            "\n",
            "====================\n",
            "Solución encontrada en 25 movimientos:\n",
            "\n",
            "Movimiento 1: ((1, 2), (2, 2), (3, 2))\n",
            "  ■ ■ ■  \n",
            "  ■ □ ■  \n",
            "■ ■ □ ■ ■\n",
            "■ ■ ■ ■ ■\n",
            "■ ■ ■ ■ ■\n",
            "  ■ ■ ■  \n",
            "  ■ ■ ■  \n",
            "\n",
            "\n",
            "Movimiento 2: ((2, 0), (2, 1), (2, 2))\n",
            "  ■ ■ ■  \n",
            "  ■ □ ■  \n",
            "□ □ ■ ■ ■\n",
            "■ ■ ■ ■ ■\n",
            "■ ■ ■ ■ ■\n",
            "  ■ ■ ■  \n",
            "  ■ ■ ■  \n",
            "\n",
            "\n",
            "Movimiento 3: ((0, 1), (1, 1), (2, 1))\n",
            "  □ ■ ■  \n",
            "  □ □ ■  \n",
            "□ ■ ■ ■ ■\n",
            "■ ■ ■ ■ ■\n",
            "■ ■ ■ ■ ■\n",
            "  ■ ■ ■  \n",
            "  ■ ■ ■  \n",
            "\n",
            "\n",
            "Movimiento 4: ((3, 2), (2, 2), (1, 2))\n",
            "  □ ■ ■  \n",
            "  □ ■ ■  \n",
            "□ ■ □ ■ ■\n",
            "■ ■ □ ■ ■\n",
            "■ ■ ■ ■ ■\n",
            "  ■ ■ ■  \n",
            "  ■ ■ ■  \n",
            "\n",
            "\n",
            "Movimiento 5: ((2, 4), (2, 3), (2, 2))\n",
            "  □ ■ ■  \n",
            "  □ ■ ■  \n",
            "□ ■ ■ □ □\n",
            "■ ■ □ ■ ■\n",
            "■ ■ ■ ■ ■\n",
            "  ■ ■ ■  \n",
            "  ■ ■ ■  \n",
            "\n",
            "\n",
            "Movimiento 6: ((0, 3), (1, 3), (2, 3))\n",
            "  □ ■ □  \n",
            "  □ ■ □  \n",
            "□ ■ ■ ■ □\n",
            "■ ■ □ ■ ■\n",
            "■ ■ ■ ■ ■\n",
            "  ■ ■ ■  \n",
            "  ■ ■ ■  \n",
            "\n",
            "\n",
            "Movimiento 7: ((5, 2), (4, 2), (3, 2))\n",
            "  □ ■ □  \n",
            "  □ ■ □  \n",
            "□ ■ ■ ■ □\n",
            "■ ■ ■ ■ ■\n",
            "■ ■ □ ■ ■\n",
            "  ■ □ ■  \n",
            "  ■ ■ ■  \n",
            "\n",
            "\n",
            "Movimiento 8: ((4, 0), (4, 1), (4, 2))\n",
            "  □ ■ □  \n",
            "  □ ■ □  \n",
            "□ ■ ■ ■ □\n",
            "■ ■ ■ ■ ■\n",
            "□ □ ■ ■ ■\n",
            "  ■ □ ■  \n",
            "  ■ ■ ■  \n",
            "\n",
            "\n",
            "Movimiento 9: ((6, 1), (5, 1), (4, 1))\n",
            "  □ ■ □  \n",
            "  □ ■ □  \n",
            "□ ■ ■ ■ □\n",
            "■ ■ ■ ■ ■\n",
            "□ ■ ■ ■ ■\n",
            "  □ □ ■  \n",
            "  □ ■ ■  \n",
            "\n",
            "\n",
            "Movimiento 10: ((3, 2), (4, 2), (5, 2))\n",
            "  □ ■ □  \n",
            "  □ ■ □  \n",
            "□ ■ ■ ■ □\n",
            "■ ■ □ ■ ■\n",
            "□ ■ □ ■ ■\n",
            "  □ ■ ■  \n",
            "  □ ■ ■  \n",
            "\n",
            "\n",
            "Movimiento 11: ((4, 4), (4, 3), (4, 2))\n",
            "  □ ■ □  \n",
            "  □ ■ □  \n",
            "□ ■ ■ ■ □\n",
            "■ ■ □ ■ ■\n",
            "□ ■ ■ □ □\n",
            "  □ ■ ■  \n",
            "  □ ■ ■  \n",
            "\n",
            "\n",
            "Movimiento 12: ((6, 3), (5, 3), (4, 3))\n",
            "  □ ■ □  \n",
            "  □ ■ □  \n",
            "□ ■ ■ ■ □\n",
            "■ ■ □ ■ ■\n",
            "□ ■ ■ ■ □\n",
            "  □ ■ □  \n",
            "  □ ■ □  \n",
            "\n",
            "\n",
            "Movimiento 13: ((2, 2), (2, 3), (2, 4))\n",
            "  □ ■ □  \n",
            "  □ ■ □  \n",
            "□ ■ □ □ ■\n",
            "■ ■ □ ■ ■\n",
            "□ ■ ■ ■ □\n",
            "  □ ■ □  \n",
            "  □ ■ □  \n",
            "\n",
            "\n",
            "Movimiento 14: ((0, 2), (1, 2), (2, 2))\n",
            "  □ □ □  \n",
            "  □ □ □  \n",
            "□ ■ ■ □ ■\n",
            "■ ■ □ ■ ■\n",
            "□ ■ ■ ■ □\n",
            "  □ ■ □  \n",
            "  □ ■ □  \n",
            "\n",
            "\n",
            "Movimiento 15: ((4, 2), (4, 1), (4, 0))\n",
            "  □ □ □  \n",
            "  □ □ □  \n",
            "□ ■ ■ □ ■\n",
            "■ ■ □ ■ ■\n",
            "■ □ □ ■ □\n",
            "  □ ■ □  \n",
            "  □ ■ □  \n",
            "\n",
            "\n",
            "Movimiento 16: ((6, 2), (5, 2), (4, 2))\n",
            "  □ □ □  \n",
            "  □ □ □  \n",
            "□ ■ ■ □ ■\n",
            "■ ■ □ ■ ■\n",
            "■ □ ■ ■ □\n",
            "  □ □ □  \n",
            "  □ □ □  \n",
            "\n",
            "\n",
            "Movimiento 17: ((4, 3), (4, 2), (4, 1))\n",
            "  □ □ □  \n",
            "  □ □ □  \n",
            "□ ■ ■ □ ■\n",
            "■ ■ □ ■ ■\n",
            "■ ■ □ □ □\n",
            "  □ □ □  \n",
            "  □ □ □  \n",
            "\n",
            "\n",
            "Movimiento 18: ((4, 0), (4, 1), (4, 2))\n",
            "  □ □ □  \n",
            "  □ □ □  \n",
            "□ ■ ■ □ ■\n",
            "■ ■ □ ■ ■\n",
            "□ □ ■ □ □\n",
            "  □ □ □  \n",
            "  □ □ □  \n",
            "\n",
            "\n",
            "Movimiento 19: ((3, 0), (3, 1), (3, 2))\n",
            "  □ □ □  \n",
            "  □ □ □  \n",
            "□ ■ ■ □ ■\n",
            "□ □ ■ ■ ■\n",
            "□ □ ■ □ □\n",
            "  □ □ □  \n",
            "  □ □ □  \n",
            "\n",
            "\n",
            "Movimiento 20: ((2, 1), (2, 2), (2, 3))\n",
            "  □ □ □  \n",
            "  □ □ □  \n",
            "□ □ □ ■ ■\n",
            "□ □ ■ ■ ■\n",
            "□ □ ■ □ □\n",
            "  □ □ □  \n",
            "  □ □ □  \n",
            "\n",
            "\n",
            "Movimiento 21: ((2, 4), (2, 3), (2, 2))\n",
            "  □ □ □  \n",
            "  □ □ □  \n",
            "□ □ ■ □ □\n",
            "□ □ ■ ■ ■\n",
            "□ □ ■ □ □\n",
            "  □ □ □  \n",
            "  □ □ □  \n",
            "\n",
            "\n",
            "Movimiento 22: ((3, 2), (4, 2), (5, 2))\n",
            "  □ □ □  \n",
            "  □ □ □  \n",
            "□ □ ■ □ □\n",
            "□ □ □ ■ ■\n",
            "□ □ □ □ □\n",
            "  □ ■ □  \n",
            "  □ □ □  \n",
            "\n",
            "\n",
            "Movimiento 23: ((3, 4), (3, 3), (3, 2))\n",
            "  □ □ □  \n",
            "  □ □ □  \n",
            "□ □ ■ □ □\n",
            "□ □ ■ □ □\n",
            "□ □ □ □ □\n",
            "  □ ■ □  \n",
            "  □ □ □  \n",
            "\n",
            "\n",
            "Movimiento 24: ((2, 2), (3, 2), (4, 2))\n",
            "  □ □ □  \n",
            "  □ □ □  \n",
            "□ □ □ □ □\n",
            "□ □ □ □ □\n",
            "□ □ ■ □ □\n",
            "  □ ■ □  \n",
            "  □ □ □  \n",
            "\n",
            "\n",
            "Movimiento 25: ((5, 2), (4, 2), (3, 2))\n",
            "  □ □ □  \n",
            "  □ □ □  \n",
            "□ □ □ □ □\n",
            "□ □ ■ □ □\n",
            "□ □ □ □ □\n",
            "  □ □ □  \n",
            "  □ □ □  \n",
            "\n",
            "\n",
            "Function execution time: 0.5417 seconds\n"
          ]
        }
      ]
    },
    {
      "cell_type": "markdown",
      "source": [
        "8. Gráfico de Desempeño"
      ],
      "metadata": {
        "id": "OTI6ZpuFUu7D"
      }
    },
    {
      "cell_type": "code",
      "source": [
        "#Graficar nodos biertos a lo largo del tiempo\n",
        "plt.plot(time_points, open_sizes, marker='o', linestyle='-')\n",
        "plt.xlabel(\"Tiempo (s)\")\n",
        "plt.ylabel(\"Nodos abiertos\")\n",
        "plt.title(\"Cantidad de nodos abiertos a lo largo del tiempo - A*\")\n",
        "plt.grid(True)\n",
        "plt.show()\n",
        "\n",
        "#Un resultado bastante lineal. Asumimos que este resultado solo ocurre ya que el método utilizado encuentra la solución bastante rápido."
      ],
      "metadata": {
        "colab": {
          "base_uri": "https://localhost:8080/",
          "height": 472
        },
        "id": "PCBq6yEbUSiW",
        "outputId": "56fb37e7-18e8-43d0-8084-f7c400f596d7"
      },
      "execution_count": null,
      "outputs": [
        {
          "output_type": "display_data",
          "data": {
            "text/plain": [
              "<Figure size 640x480 with 1 Axes>"
            ],
            "image/png": "[encoded data removed]"
          },
          "metadata": {}
        }
      ]
    },
    {
      "cell_type": "markdown",
      "source": [
        "**2. Min-Max - Lines and Boxes**"
      ],
      "metadata": {
        "id": "g-QkUks8ukj6"
      }
    },
    {
      "cell_type": "code",
      "source": [
        "import numpy as np\n",
        "import copy\n",
        "import time"
      ],
      "metadata": {
        "id": "OJtWZJyEC120"
      },
      "execution_count": null,
      "outputs": []
    },
    {
      "cell_type": "markdown",
      "source": [
        "Esta función determina si el juego ha terminado comparando:\n",
        "- linesDrawn: Cantidad de líneas que ya se han dibujado\n",
        "- totalLines: Cantidad total de líneas posibles en el tablero\n",
        "\n",
        "El juego termina cuando todas las líneas han sido dibujadas."
      ],
      "metadata": {
        "id": "ZdhUH71i8Mw8"
      }
    },
    {
      "cell_type": "code",
      "source": [
        "def isTerminal(state):\n",
        "    return state['linesDrawn'] == state['totalLines']"
      ],
      "metadata": {
        "id": "hEkw6BhcCbAb"
      },
      "execution_count": null,
      "outputs": []
    },
    {
      "cell_type": "markdown",
      "source": [
        "Esta función permite calcular el valor de un estado del juego, lo realiza restando la puntuación del jugador menos la puntuación del oponente."
      ],
      "metadata": {
        "id": "r8-o196E8jui"
      }
    },
    {
      "cell_type": "code",
      "source": [
        "def utility(state, player):\n",
        "    opponent = 1 - player\n",
        "    return state[\"scores\"][player] - state[\"scores\"][opponent]"
      ],
      "metadata": {
        "id": "WrDuj0hSCcan"
      },
      "execution_count": null,
      "outputs": []
    },
    {
      "cell_type": "markdown",
      "source": [
        "Esta función determina todas las acciones válidas en el estado actual:\n",
        "\n",
        "- Recorre todas las líneas horizontales y verticales posibles\n",
        "- Agrega a la lista sólo aquellas que aún no han sido dibujadas (valor 0)\n",
        "- Cada acción se representa como una tupla: (tipo, fila, columna)\n",
        "\n",
        "Tipo 'h' para líneas horizontales y tipo 'v' para líneas verticales"
      ],
      "metadata": {
        "id": "W5XQu_oQ8_Ty"
      }
    },
    {
      "cell_type": "code",
      "source": [
        "def getActions(state):\n",
        "        actions = []\n",
        "\n",
        "        # Verificar líneas horizontales disponibles\n",
        "        for i in range(state['size'] + 1):\n",
        "            for j in range(state['size']):\n",
        "                if state['horizontalLines'][i, j] == 0:\n",
        "                    actions.append(('h', i, j))\n",
        "\n",
        "        # Verificar líneas verticales disponibles\n",
        "        for i in range(state['size']):\n",
        "            for j in range(state['size'] + 1):\n",
        "                if state['verticalLines'][i, j] == 0:\n",
        "                    actions.append(('v', i, j))\n",
        "\n",
        "        return actions"
      ],
      "metadata": {
        "id": "YnIIhPDQCfP7"
      },
      "execution_count": null,
      "outputs": []
    },
    {
      "cell_type": "markdown",
      "source": [
        "- Crea una copia profunda del estado para no modificar el original\n",
        "- Aplica la acción seleccionada:\n",
        "  - Marca la línea correspondiente en el tablero\n",
        "  - Incrementa el contador de líneas dibujadas\n",
        "\n",
        "- Verifica si se completó alguna caja:\n",
        "  - Para líneas horizontales, comprueba cajas arriba y abajo\n",
        "  - Para líneas verticales, comprueba cajas a la izquierda y derecha\n",
        "\n",
        "\n",
        "Si se completa una caja:\n",
        "\n",
        "- Marca la caja con el número del jugador\n",
        "- Aumenta la puntuación del jugador\n",
        "- Establece scored = True\n",
        "\n",
        "Cambia el turno al otro jugador solo si no se completó una caja y retorna el nuevo estado y si se completó una caja"
      ],
      "metadata": {
        "id": "O_GtiPI39I0l"
      }
    },
    {
      "cell_type": "code",
      "source": [
        "def applyAction(state, action, player=None):\n",
        "    newState = copy.deepcopy(state)\n",
        "\n",
        "    if player is None:\n",
        "        player = newState[\"maximizingPlayer\"]\n",
        "    actionType, i, j = action\n",
        "    scored = False\n",
        "\n",
        "    if actionType == 'h':\n",
        "        newState[\"horizontalLines\"][i, j] = player + 1\n",
        "    else:\n",
        "        newState[\"verticalLines\"][i, j] = player + 1\n",
        "\n",
        "    newState[\"linesDrawn\"] += 1\n",
        "\n",
        "    # Verificar si se completó alguna caja\n",
        "    if actionType == 'h':\n",
        "        if i > 0 and checkBox(newState, i-1, j):\n",
        "            newState[\"boxes\"][i-1, j] = player + 1\n",
        "            newState[\"scores\"][player] += 1\n",
        "            scored = True\n",
        "\n",
        "        # Verificar caja abajo (si existe)\n",
        "        if i < newState[\"size\"] and checkBox(newState, i, j):\n",
        "            newState[\"boxes\"][i, j] = player + 1\n",
        "            newState[\"scores\"][player] += 1\n",
        "            scored = True\n",
        "\n",
        "    else:  # actionType == 'v'\n",
        "        # Verificar caja izquierda (si existe)\n",
        "        if j > 0 and checkBox(newState, i, j-1):\n",
        "            newState[\"boxes\"][i, j-1] = player + 1\n",
        "            newState[\"scores\"][player] += 1\n",
        "            scored = True\n",
        "\n",
        "        # Verificar caja derecha (si existe)\n",
        "        if j < newState[\"size\"] and checkBox(newState, i, j):\n",
        "            newState[\"boxes\"][i, j] = player + 1\n",
        "            newState[\"scores\"][player] += 1\n",
        "            scored = True\n",
        "\n",
        "    # Cambiar de jugador solo si no se completó una caja\n",
        "    if not scored:\n",
        "        newState[\"maximizingPlayer\"] = 1 - player  # Alterna entre 0 y 1\n",
        "\n",
        "    return newState, scored"
      ],
      "metadata": {
        "id": "pcuuMKfVChum"
      },
      "execution_count": null,
      "outputs": []
    },
    {
      "cell_type": "markdown",
      "source": [
        "Esta función verifica si se completó una caja comprobando que las cuatro líneas estén dibujadas."
      ],
      "metadata": {
        "id": "F0NkQ3_y9cMo"
      }
    },
    {
      "cell_type": "code",
      "source": [
        "def checkBox(state, i, j):\n",
        "    horizontalLines = state[\"horizontalLines\"]\n",
        "    verticalLines = state[\"verticalLines\"]\n",
        "\n",
        "    return (horizontalLines[i, j] != 0 and\n",
        "            horizontalLines[i+1, j] != 0 and\n",
        "            verticalLines[i, j] != 0 and\n",
        "            verticalLines[i, j+1] != 0)"
      ],
      "metadata": {
        "id": "FE80SkppCrh4"
      },
      "execution_count": null,
      "outputs": []
    },
    {
      "cell_type": "markdown",
      "source": [
        "Esta función llama a minmax basada en en jugador atual, retorna la mejor acción encontreada controlando la profundidad del grafo con el parámetro depth."
      ],
      "metadata": {
        "id": "yjCfPMvJ9kNJ"
      }
    },
    {
      "cell_type": "code",
      "source": [
        "def getBestMove(state, depth=6):\n",
        "    if state[\"maximizingPlayer\"] == 1:\n",
        "        _, bestAction = minimax(state, depth, float('-inf'), float('inf'), True)\n",
        "    else:\n",
        "        _, bestAction = minimax(state, depth, float('-inf'), float('inf'), False)\n",
        "\n",
        "    return bestAction"
      ],
      "metadata": {
        "id": "17gdNR4BCtOr"
      },
      "execution_count": null,
      "outputs": []
    },
    {
      "cell_type": "markdown",
      "source": [
        "Función principal del algoritmo:\n",
        "- Se manejan los casos base\n",
        "- Se inicializan valores según el jugador\n",
        "- Se generan todos los movimientos posibles\n",
        "- Se aplica truncado del grafo con alpha y beta\n",
        "- Para cada movimiento se calcula de forma recursiva su valor\n",
        "\n",
        "Retorna el mejor valor y acción encontrados."
      ],
      "metadata": {
        "id": "pHT4_qf_-FPx"
      }
    },
    {
      "cell_type": "code",
      "source": [
        "def minimax(state, depth, alpha, beta, maximizingPlayer):\n",
        "    if depth == 0 or isTerminal(state):\n",
        "        return utility(state, 1), None\n",
        "\n",
        "    bestAction = None\n",
        "\n",
        "    if maximizingPlayer:\n",
        "        value = float('-inf')\n",
        "        player = 1\n",
        "    else:\n",
        "        value = float('inf')\n",
        "        player = 0\n",
        "\n",
        "    actions = getActions(state)\n",
        "\n",
        "    actions_sizes.append(len(actions))\n",
        "    time_points2.append(time.time() - start_time2)\n",
        "\n",
        "    for action in actions:\n",
        "        newState, scored = applyAction(state, action, player)\n",
        "\n",
        "        # Si se completó una caja, el mismo jugador continúa\n",
        "        if scored:\n",
        "            newValue, _ = minimax(newState, depth - 1, alpha, beta, maximizingPlayer)\n",
        "        else:\n",
        "            newValue, _ = minimax(newState, depth - 1, alpha, beta, not maximizingPlayer)\n",
        "\n",
        "        if maximizingPlayer:\n",
        "            if newValue > value:\n",
        "                value = newValue\n",
        "                bestAction = action\n",
        "            alpha = max(alpha, value)\n",
        "        else:\n",
        "            if newValue < value:\n",
        "                value = newValue\n",
        "                bestAction = action\n",
        "            beta = min(beta, value)\n",
        "\n",
        "        if beta <= alpha:\n",
        "            break\n",
        "\n",
        "    return value, bestAction"
      ],
      "metadata": {
        "id": "dgj2vDyDCu-N"
      },
      "execution_count": null,
      "outputs": []
    },
    {
      "cell_type": "markdown",
      "source": [
        "Función para crear el estado y todos sus componentes necesarios.\n",
        "- Crea matrices para almacenar:\n",
        "\n",
        "  - Líneas horizontales y verticales (0 = no dibujada)\n",
        "  - Cajas (0 = vacía, 1 = jugador 1, 2 = jugador 2)\n",
        "\n",
        "\n",
        "- Inicializa las puntuaciones de los jugadores a 0\n",
        "- Establece el jugador inicial (0)\n",
        "- Calcula el total de líneas posibles: 2 * size * (size + 1)\n",
        "- Inicializa las líneas dibujadas a 0\n",
        "- Retorna un diccionario con toda la información del estado"
      ],
      "metadata": {
        "id": "CeDy-yeR-jrE"
      }
    },
    {
      "cell_type": "code",
      "source": [
        "def createState(size):\n",
        "    horizontal_Lines = np.zeros((size + 1, size), dtype=int)\n",
        "    verticalLines = np.zeros((size, size + 1), dtype=int)\n",
        "\n",
        "    # Matriz para registrar qué jugador completó cada caja\n",
        "    boxes = np.zeros((size, size), dtype=int)\n",
        "    # Puntuación de cada jugador\n",
        "    scores = {0: 0, 1: 0}\n",
        "    # Jugador actual: 0 o 1\n",
        "    maximizingPlayer = 0\n",
        "    # Total de líneas posibles\n",
        "    totalLines = 2 * size * (size + 1)\n",
        "    # Número de líneas dibujadas\n",
        "    linesDrawn = 0\n",
        "\n",
        "    return {\n",
        "        \"horizontalLines\": horizontal_Lines,\n",
        "        \"verticalLines\": verticalLines,\n",
        "        \"boxes\": boxes,\n",
        "        \"scores\": scores,\n",
        "        \"maximizingPlayer\": maximizingPlayer,\n",
        "        \"totalLines\": totalLines,\n",
        "        \"linesDrawn\": linesDrawn,\n",
        "        \"size\": size\n",
        "    }"
      ],
      "metadata": {
        "id": "yrH0JbOeCy-l"
      },
      "execution_count": null,
      "outputs": []
    },
    {
      "cell_type": "markdown",
      "source": [
        "Función para imprimir el estado del tablero"
      ],
      "metadata": {
        "id": "ctajyHHf-_oT"
      }
    },
    {
      "cell_type": "code",
      "source": [
        "def printBoard(state):\n",
        "    size = state[\"size\"]\n",
        "    horizontalLines = state[\"horizontalLines\"]\n",
        "    verticalLines = state[\"verticalLines\"]\n",
        "    boxes = state[\"boxes\"]\n",
        "    scores = state[\"scores\"]\n",
        "\n",
        "    for i in range(size + 1):\n",
        "        # Imprimir puntos y líneas horizontales\n",
        "        line = \"\"\n",
        "        for j in range(size + 1):\n",
        "            line += \"o\"  # Punto\n",
        "            if j < size:\n",
        "                # Línea horizontal\n",
        "                if horizontalLines[i, j] == 1:\n",
        "                    line += \"---\"\n",
        "                elif horizontalLines[i, j] == 2:\n",
        "                    line += \"===\"\n",
        "                else:\n",
        "                    line += \"   \"\n",
        "        print(line)\n",
        "\n",
        "        if i < size:\n",
        "            # Imprimir líneas verticales y el interior de las cajas\n",
        "            line = \"\"\n",
        "            for j in range(size + 1):\n",
        "                # Línea vertical\n",
        "                if verticalLines[i, j] == 1:\n",
        "                    line += \"|\"\n",
        "                elif verticalLines[i, j] == 2:\n",
        "                    line += \"‖\"\n",
        "                else:\n",
        "                    line += \" \"\n",
        "\n",
        "                # Interior de la caja\n",
        "                if j < size:\n",
        "                    if boxes[i, j] == 1:\n",
        "                        line += \" 0 \"\n",
        "                    elif boxes[i, j] == 2:\n",
        "                        line += \" 1 \"\n",
        "                    else:\n",
        "                        line += \"   \"\n",
        "            print(line)\n",
        "\n",
        "    print(f\"Puntuación - Jugador 0: {scores[0]}, Jugador 1: {scores[1]}\")"
      ],
      "metadata": {
        "id": "XxtkKktYC5fY"
      },
      "execution_count": null,
      "outputs": []
    },
    {
      "cell_type": "code",
      "source": [
        "start_time2 = time.time()  # Start time\n",
        "\n",
        "# Variables para gráfico\n",
        "actions_sizes = []\n",
        "time_points2 = []\n",
        "\n",
        "state = createState(3)\n",
        "while not isTerminal(state):\n",
        "  move = getBestMove(state)\n",
        "  state, _ = applyAction(state, move)\n",
        "  printBoard(state)\n",
        "  print(\"\\n\\n\")\n",
        "\n",
        "end_time2 = time.time()  # End time\n",
        "\n",
        "elapsed_time2 = end_time2 - start_time2\n",
        "print(f\"Function execution time: {elapsed_time2:.4f} seconds\")"
      ],
      "metadata": {
        "colab": {
          "base_uri": "https://localhost:8080/"
        },
        "id": "Oznx7B30C95s",
        "outputId": "901966bd-3f98-4966-ca5e-b40b556d9d1c"
      },
      "execution_count": null,
      "outputs": [
        {
          "output_type": "stream",
          "name": "stdout",
          "text": [
            "o---o   o   o\n",
            "             \n",
            "o   o   o   o\n",
            "             \n",
            "o   o   o   o\n",
            "             \n",
            "o   o   o   o\n",
            "Puntuación - Jugador 0: 0, Jugador 1: 0\n",
            "\n",
            "\n",
            "\n",
            "o---o===o   o\n",
            "             \n",
            "o   o   o   o\n",
            "             \n",
            "o   o   o   o\n",
            "             \n",
            "o   o   o   o\n",
            "Puntuación - Jugador 0: 0, Jugador 1: 0\n",
            "\n",
            "\n",
            "\n",
            "o---o===o---o\n",
            "             \n",
            "o   o   o   o\n",
            "             \n",
            "o   o   o   o\n",
            "             \n",
            "o   o   o   o\n",
            "Puntuación - Jugador 0: 0, Jugador 1: 0\n",
            "\n",
            "\n",
            "\n",
            "o---o===o---o\n",
            "             \n",
            "o===o   o   o\n",
            "             \n",
            "o   o   o   o\n",
            "             \n",
            "o   o   o   o\n",
            "Puntuación - Jugador 0: 0, Jugador 1: 0\n",
            "\n",
            "\n",
            "\n",
            "o---o===o---o\n",
            "             \n",
            "o===o---o   o\n",
            "             \n",
            "o   o   o   o\n",
            "             \n",
            "o   o   o   o\n",
            "Puntuación - Jugador 0: 0, Jugador 1: 0\n",
            "\n",
            "\n",
            "\n",
            "o---o===o---o\n",
            "             \n",
            "o===o---o===o\n",
            "             \n",
            "o   o   o   o\n",
            "             \n",
            "o   o   o   o\n",
            "Puntuación - Jugador 0: 0, Jugador 1: 0\n",
            "\n",
            "\n",
            "\n",
            "o---o===o---o\n",
            "             \n",
            "o===o---o===o\n",
            "             \n",
            "o---o   o   o\n",
            "             \n",
            "o   o   o   o\n",
            "Puntuación - Jugador 0: 0, Jugador 1: 0\n",
            "\n",
            "\n",
            "\n",
            "o---o===o---o\n",
            "             \n",
            "o===o---o===o\n",
            "             \n",
            "o---o===o   o\n",
            "             \n",
            "o   o   o   o\n",
            "Puntuación - Jugador 0: 0, Jugador 1: 0\n",
            "\n",
            "\n",
            "\n",
            "o---o===o---o\n",
            "             \n",
            "o===o---o===o\n",
            "             \n",
            "o---o===o---o\n",
            "             \n",
            "o   o   o   o\n",
            "Puntuación - Jugador 0: 0, Jugador 1: 0\n",
            "\n",
            "\n",
            "\n",
            "o---o===o---o\n",
            "             \n",
            "o===o---o===o\n",
            "             \n",
            "o---o===o---o\n",
            "             \n",
            "o===o   o   o\n",
            "Puntuación - Jugador 0: 0, Jugador 1: 0\n",
            "\n",
            "\n",
            "\n",
            "o---o===o---o\n",
            "             \n",
            "o===o---o===o\n",
            "             \n",
            "o---o===o---o\n",
            "        |    \n",
            "o===o   o   o\n",
            "Puntuación - Jugador 0: 0, Jugador 1: 0\n",
            "\n",
            "\n",
            "\n",
            "o---o===o---o\n",
            "             \n",
            "o===o---o===o\n",
            "             \n",
            "o---o===o---o\n",
            "        |    \n",
            "o===o   o===o\n",
            "Puntuación - Jugador 0: 0, Jugador 1: 0\n",
            "\n",
            "\n",
            "\n",
            "o---o===o---o\n",
            "             \n",
            "o===o---o===o\n",
            "             \n",
            "o---o===o---o\n",
            "        | 0 |\n",
            "o===o   o===o\n",
            "Puntuación - Jugador 0: 1, Jugador 1: 0\n",
            "\n",
            "\n",
            "\n",
            "o---o===o---o\n",
            "             \n",
            "o===o---o===o\n",
            "             \n",
            "o---o===o---o\n",
            "        | 0 |\n",
            "o===o---o===o\n",
            "Puntuación - Jugador 0: 1, Jugador 1: 0\n",
            "\n",
            "\n",
            "\n",
            "o---o===o---o\n",
            "             \n",
            "o===o---o===o\n",
            "             \n",
            "o---o===o---o\n",
            "‖       | 0 |\n",
            "o===o---o===o\n",
            "Puntuación - Jugador 0: 1, Jugador 1: 0\n",
            "\n",
            "\n",
            "\n",
            "o---o===o---o\n",
            "             \n",
            "o===o---o===o\n",
            "             \n",
            "o---o===o---o\n",
            "‖ 0 | 0 | 0 |\n",
            "o===o---o===o\n",
            "Puntuación - Jugador 0: 3, Jugador 1: 0\n",
            "\n",
            "\n",
            "\n",
            "o---o===o---o\n",
            "|            \n",
            "o===o---o===o\n",
            "             \n",
            "o---o===o---o\n",
            "‖ 0 | 0 | 0 |\n",
            "o===o---o===o\n",
            "Puntuación - Jugador 0: 3, Jugador 1: 0\n",
            "\n",
            "\n",
            "\n",
            "o---o===o---o\n",
            "| 1 ‖        \n",
            "o===o---o===o\n",
            "             \n",
            "o---o===o---o\n",
            "‖ 0 | 0 | 0 |\n",
            "o===o---o===o\n",
            "Puntuación - Jugador 0: 3, Jugador 1: 1\n",
            "\n",
            "\n",
            "\n",
            "o---o===o---o\n",
            "| 1 ‖       ‖\n",
            "o===o---o===o\n",
            "             \n",
            "o---o===o---o\n",
            "‖ 0 | 0 | 0 |\n",
            "o===o---o===o\n",
            "Puntuación - Jugador 0: 3, Jugador 1: 1\n",
            "\n",
            "\n",
            "\n",
            "o---o===o---o\n",
            "| 1 ‖ 0 | 0 ‖\n",
            "o===o---o===o\n",
            "             \n",
            "o---o===o---o\n",
            "‖ 0 | 0 | 0 |\n",
            "o===o---o===o\n",
            "Puntuación - Jugador 0: 5, Jugador 1: 1\n",
            "\n",
            "\n",
            "\n",
            "o---o===o---o\n",
            "| 1 ‖ 0 | 0 ‖\n",
            "o===o---o===o\n",
            "|            \n",
            "o---o===o---o\n",
            "‖ 0 | 0 | 0 |\n",
            "o===o---o===o\n",
            "Puntuación - Jugador 0: 5, Jugador 1: 1\n",
            "\n",
            "\n",
            "\n",
            "o---o===o---o\n",
            "| 1 ‖ 0 | 0 ‖\n",
            "o===o---o===o\n",
            "| 1 ‖        \n",
            "o---o===o---o\n",
            "‖ 0 | 0 | 0 |\n",
            "o===o---o===o\n",
            "Puntuación - Jugador 0: 5, Jugador 1: 2\n",
            "\n",
            "\n",
            "\n",
            "o---o===o---o\n",
            "| 1 ‖ 0 | 0 ‖\n",
            "o===o---o===o\n",
            "| 1 ‖ 1 ‖    \n",
            "o---o===o---o\n",
            "‖ 0 | 0 | 0 |\n",
            "o===o---o===o\n",
            "Puntuación - Jugador 0: 5, Jugador 1: 3\n",
            "\n",
            "\n",
            "\n",
            "o---o===o---o\n",
            "| 1 ‖ 0 | 0 ‖\n",
            "o===o---o===o\n",
            "| 1 ‖ 1 ‖ 1 ‖\n",
            "o---o===o---o\n",
            "‖ 0 | 0 | 0 |\n",
            "o===o---o===o\n",
            "Puntuación - Jugador 0: 5, Jugador 1: 4\n",
            "\n",
            "\n",
            "\n",
            "Function execution time: 14.1363 seconds\n"
          ]
        }
      ]
    },
    {
      "cell_type": "code",
      "source": [
        "import matplotlib.pyplot as plt\n",
        "\n",
        "# Configuración de rendimiento\n",
        "plt.style.use('fast')  # Estilo minimalista para mejor performance\n",
        "plt.figure(figsize=(12, 6), dpi=100)\n",
        "\n",
        "# Gráfico simplificado sin marcadores\n",
        "plt.plot(time_points2, actions_sizes,\n",
        "         linewidth=1.5,\n",
        "         color='#4a4a4a',  # Gris oscuro\n",
        "         alpha=0.9,\n",
        "         solid_capstyle='round')\n",
        "\n",
        "# Diseño funcional\n",
        "plt.xlabel(\"Tiempo (s)\", fontsize=10, labelpad=8)\n",
        "plt.ylabel(\"Acciones Analizadas\", fontsize=10, labelpad=8)\n",
        "plt.title(\"Análisis de Acciones - Minimax\", fontsize=12, pad=12)\n",
        "\n",
        "# Cuadrícula ligera\n",
        "plt.grid(True, linestyle=':', linewidth=0.5, alpha=0.4)\n",
        "\n",
        "# Optimización de renderizado\n",
        "plt.tight_layout()\n",
        "plt.gca().set_rasterized(True)  # Acelera renderizado en grandes datasets\n",
        "\n",
        "plt.show()"
      ],
      "metadata": {
        "colab": {
          "base_uri": "https://localhost:8080/",
          "height": 607
        },
        "id": "xBHp-FQ2oKPR",
        "outputId": "ecedad1f-ce97-44d2-b3d8-8b661d5c8f0b"
      },
      "execution_count": null,
      "outputs": [
        {
          "output_type": "display_data",
          "data": {
            "text/plain": [
              "<Figure size 1200x600 with 1 Axes>"
            ],
            "image/png": "[encoded data removed]"
          },
          "metadata": {}
        }
      ]
    }
  ]
}